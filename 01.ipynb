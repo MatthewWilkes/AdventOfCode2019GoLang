{
 "cells": [
  {
   "cell_type": "code",
   "execution_count": 1,
   "metadata": {},
   "outputs": [],
   "source": [
    "/* \n",
    "The Elves quickly load you into a spacecraft and prepare to launch.\n",
    "\n",
    "At the first Go / No Go poll, every Elf is Go until the Fuel Counter-Upper. They haven't determined the amount of fuel required yet.\n",
    "\n",
    "Fuel required to launch a given module is based on its mass. Specifically, to find the fuel required for a module, take its mass, divide by three, round down, and subtract 2.\n",
    "\n",
    "For example:\n",
    "\n",
    "For a mass of 12, divide by 3 and round down to get 4, then subtract 2 to get 2.\n",
    "For a mass of 14, dividing by 3 and rounding down still yields 4, so the fuel required is also 2.\n",
    "For a mass of 1969, the fuel required is 654.\n",
    "For a mass of 100756, the fuel required is 33583.\n",
    "The Fuel Counter-Upper needs to know the total fuel requirement. To find it, individually calculate the fuel needed for the mass of each module (your puzzle input), then add together all the fuel values.\n",
    "\n",
    "What is the sum of the fuel requirements for all of the modules on your spacecraft? \n",
    "*/"
   ]
  },
  {
   "cell_type": "code",
   "execution_count": 2,
   "metadata": {},
   "outputs": [],
   "source": [
    "challenge_input := `106001\n",
    "131342\n",
    "51187\n",
    "87791\n",
    "68636\n",
    "109091\n",
    "111888\n",
    "98012\n",
    "90713\n",
    "54284\n",
    "143884\n",
    "121856\n",
    "117199\n",
    "77883\n",
    "132628\n",
    "123828\n",
    "56939\n",
    "50447\n",
    "77110\n",
    "103272\n",
    "148181\n",
    "59323\n",
    "98249\n",
    "110065\n",
    "144277\n",
    "108204\n",
    "92138\n",
    "54449\n",
    "108098\n",
    "119292\n",
    "65720\n",
    "136053\n",
    "116987\n",
    "78305\n",
    "143302\n",
    "145067\n",
    "106633\n",
    "90519\n",
    "58970\n",
    "57090\n",
    "77334\n",
    "55929\n",
    "95983\n",
    "139236\n",
    "62634\n",
    "89275\n",
    "113296\n",
    "59530\n",
    "114159\n",
    "98407\n",
    "120607\n",
    "84394\n",
    "91151\n",
    "135965\n",
    "56157\n",
    "114073\n",
    "95274\n",
    "75259\n",
    "60582\n",
    "136361\n",
    "54771\n",
    "53286\n",
    "70491\n",
    "131915\n",
    "114306\n",
    "120749\n",
    "117462\n",
    "86194\n",
    "112412\n",
    "140705\n",
    "72377\n",
    "113646\n",
    "145304\n",
    "60811\n",
    "127560\n",
    "78769\n",
    "99205\n",
    "127236\n",
    "136099\n",
    "69166\n",
    "141727\n",
    "115973\n",
    "100845\n",
    "90494\n",
    "62209\n",
    "85841\n",
    "116591\n",
    "78406\n",
    "140341\n",
    "139849\n",
    "55119\n",
    "64092\n",
    "58439\n",
    "52273\n",
    "51742\n",
    "57258\n",
    "95120\n",
    "138764\n",
    "106361\n",
    "82104`;"
   ]
  },
  {
   "cell_type": "code",
   "execution_count": 3,
   "metadata": {},
   "outputs": [
    {
     "data": {
      "text/plain": [
       "[106001 131342 51187 87791 68636 109091 111888 98012 90713 54284 143884 121856 117199 77883 132628 123828 56939 50447 77110 103272 148181 59323 98249 110065 144277 108204 92138 54449 108098 119292 65720 136053 116987 78305 143302 145067 106633 90519 58970 57090 77334 55929 95983 139236 62634 89275 113296 59530 114159 98407 120607 84394 91151 135965 56157 114073 95274 75259 60582 136361 54771 53286 70491 131915 114306 120749 117462 86194 112412 140705 72377 113646 145304 60811 127560 78769 99205 127236 136099 69166 141727 115973 100845 90494 62209 85841 116591 78406 140341 139849 55119 64092 58439 52273 51742 57258 95120 138764 106361 82104]"
      ]
     },
     "execution_count": 3,
     "metadata": {},
     "output_type": "execute_result"
    }
   ],
   "source": [
    "import \"strings\";\n",
    "module_weights := strings.Split(challenge_input, \"\\n\");\n",
    "module_weights;"
   ]
  },
  {
   "cell_type": "code",
   "execution_count": 4,
   "metadata": {},
   "outputs": [],
   "source": [
    "// To find the fuel required for a module, take its mass, divide by three,\n",
    "// round down, and subtract 2.\n",
    "import \"math\";\n",
    "\n",
    "func get_fuel_requirement(mass int) int {\n",
    "    f_mass := float64(mass);\n",
    "    f_mass := math.Floor(f_mass / 3);\n",
    "    f_mass := f_mass - 2;\n",
    "    return int(f_mass);\n",
    "}"
   ]
  },
  {
   "cell_type": "code",
   "execution_count": 5,
   "metadata": {},
   "outputs": [
    {
     "data": {
      "text/plain": [
       "3231941"
      ]
     },
     "execution_count": 5,
     "metadata": {},
     "output_type": "execute_result"
    }
   ],
   "source": [
    "import \"fmt\";\n",
    "import \"strconv\";\n",
    "\n",
    "fuel_requirements := 0;\n",
    "\n",
    "for i := 0; i < len(module_weights); i++ {\n",
    "    module_weight_int, _ := strconv.Atoi(module_weights[i]);\n",
    "    fuel_requirements += get_fuel_requirement(module_weight_int);\n",
    "}\n",
    "fuel_requirements;"
   ]
  },
  {
   "cell_type": "code",
   "execution_count": 6,
   "metadata": {},
   "outputs": [
    {
     "data": {
      "text/plain": [
       "4845049"
      ]
     },
     "execution_count": 6,
     "metadata": {},
     "output_type": "execute_result"
    }
   ],
   "source": [
    "// Fuel itself requires fuel just like a module - take its mass, divide by three, round down, and subtract 2.\n",
    "// However, that fuel also requires fuel, and that fuel requires fuel, and so on.\n",
    "// Any mass that would require negative fuel should instead be treated as if it requires zero fuel.\n",
    "\n",
    "\n",
    "fuel_requirements := 0;\n",
    "\n",
    "for i := 0; i < len(module_weights); i++ {\n",
    "    module_fuel_requirement := 0;\n",
    "    module_weight_int, _ := strconv.Atoi(module_weights[i]);\n",
    "    module_fuel_requirement = get_fuel_requirement(module_weight_int);\n",
    "    \n",
    "    excess_fuel_mass := module_fuel_requirement;\n",
    "    for excess_fuel_mass > 0 {\n",
    "        fuel_requirements += excess_fuel_mass;\n",
    "        excess_fuel_mass = get_fuel_requirement(excess_fuel_mass);\n",
    "    }\n",
    "}\n",
    "fuel_requirements;"
   ]
  },
  {
   "cell_type": "code",
   "execution_count": null,
   "metadata": {},
   "outputs": [],
   "source": []
  },
  {
   "cell_type": "code",
   "execution_count": null,
   "metadata": {},
   "outputs": [],
   "source": []
  }
 ],
 "metadata": {
  "kernelspec": {
   "display_name": "Go",
   "language": "go",
   "name": "gophernotes"
  },
  "language_info": {
   "codemirror_mode": "",
   "file_extension": ".go",
   "mimetype": "",
   "name": "go",
   "nbconvert_exporter": "",
   "pygments_lexer": "",
   "version": "go1.14.2"
  }
 },
 "nbformat": 4,
 "nbformat_minor": 4
}
